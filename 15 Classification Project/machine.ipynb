{
 "cells": [],
 "metadata": {
  "kernelspec": {
   "display_name": "Machine_Learning_Ravet_weekend",
   "language": "python",
   "name": "python3"
  },
  "language_info": {
   "name": "python",
   "version": "3.13.5"
  }
 },
 "nbformat": 4,
 "nbformat_minor": 5
}
