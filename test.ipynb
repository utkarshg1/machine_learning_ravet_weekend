{
 "cells": [
  {
   "cell_type": "markdown",
   "id": "ce919b3f",
   "metadata": {},
   "source": [
    "# Test"
   ]
  },
  {
   "cell_type": "code",
   "execution_count": 1,
   "id": "5c1ba59f",
   "metadata": {},
   "outputs": [],
   "source": [
    "import pandas as pd"
   ]
  },
  {
   "cell_type": "code",
   "execution_count": 2,
   "id": "dda3a9c5",
   "metadata": {},
   "outputs": [],
   "source": [
    "import numpy as np"
   ]
  },
  {
   "cell_type": "code",
   "execution_count": 3,
   "id": "9a6bc6ed",
   "metadata": {},
   "outputs": [],
   "source": [
    "import matplotlib.pyplot as plt"
   ]
  },
  {
   "cell_type": "code",
   "execution_count": 4,
   "id": "e51965b5",
   "metadata": {},
   "outputs": [],
   "source": [
    "import sklearn"
   ]
  },
  {
   "cell_type": "code",
   "execution_count": 5,
   "id": "9793509a",
   "metadata": {},
   "outputs": [],
   "source": [
    "import statsmodels"
   ]
  },
  {
   "cell_type": "code",
   "execution_count": 6,
   "id": "55a76c01",
   "metadata": {},
   "outputs": [
    {
     "data": {
      "text/plain": [
       "['import plotly.express as px',\n",
       " 'from sklearn.linear_model import ElasticNet',\n",
       " 'from statsmodels.tsa.arima_model import ARIMA',\n",
       " 'from sklearn.linear_model import RidgeCV',\n",
       " 'from scipy import signal as sg',\n",
       " 'import plotly as py',\n",
       " 'from PIL import Image',\n",
       " 'import plotly.graph_objs as go',\n",
       " 'import tqdm',\n",
       " 'import pandas as pd',\n",
       " 'from sklearn.preprocessing import StandardScaler',\n",
       " 'from sklearn.preprocessing import OneHotEncoder',\n",
       " 'import torch',\n",
       " 'from sklearn.ensemble import GradientBoostingClassifier',\n",
       " 'import xgboost as xgb',\n",
       " 'from sklearn.linear_model import Ridge',\n",
       " 'from sklearn.linear_model import LassoCV',\n",
       " 'from fbprophet import Prophet',\n",
       " 'import sklearn',\n",
       " 'from sklearn.ensemble import RandomForestRegressor',\n",
       " 'import pickle',\n",
       " 'import imutils',\n",
       " 'from sklearn.decomposition import PCA',\n",
       " 'import keras',\n",
       " 'import gensim',\n",
       " 'from pathlib import Path',\n",
       " 'from sklearn.model_selection import KFold',\n",
       " 'from sklearn.cluster import KMeans',\n",
       " 'import lightgbm as lgb',\n",
       " 'from sklearn.model_selection import RandomizedSearchCV',\n",
       " 'from sklearn.linear_model import ElasticNetCV',\n",
       " 'from sklearn.model_selection import cross_val_score',\n",
       " 'from sklearn.model_selection import StratifiedKFold',\n",
       " 'from sklearn.linear_model import Lasso',\n",
       " 'import matplotlib.pyplot as plt',\n",
       " 'import dash',\n",
       " 'import textblob',\n",
       " 'import nltk',\n",
       " 'import awswrangler as wr',\n",
       " 'import statsmodels.api as sm',\n",
       " 'import fastai',\n",
       " 'from sklearn.preprocessing import RobustScaler',\n",
       " 'import seaborn as sns',\n",
       " 'from sklearn.ensemble import RandomForestClassifier',\n",
       " 'import os',\n",
       " 'from sklearn.feature_extraction.text import CountVectorizer',\n",
       " 'from sklearn.preprocessing import MinMaxScaler',\n",
       " 'import glob',\n",
       " 'from sklearn.preprocessing import LabelEncoder',\n",
       " 'import statistics',\n",
       " 'from sklearn.ensemble import GradientBoostingRegressor',\n",
       " 'from sklearn.feature_extraction.text import TfidfVectorizer',\n",
       " 'from sklearn.model_selection import GridSearchCV',\n",
       " 'import bokeh',\n",
       " 'import cv2',\n",
       " 'import datetime as dt',\n",
       " 'import matplotlib as mpl',\n",
       " 'from sklearn.linear_model import LogisticRegression',\n",
       " 'import re',\n",
       " 'import skimage',\n",
       " 'from sklearn.impute import SimpleImputer',\n",
       " 'from sklearn import svm',\n",
       " 'from scipy import stats',\n",
       " 'import sys',\n",
       " 'import numpy as np',\n",
       " 'from sklearn.linear_model import LinearRegression',\n",
       " 'from xlrd import open_workbook',\n",
       " 'import fbprophet',\n",
       " 'from dask import dataframe as dd',\n",
       " 'from pyspark import SparkContext',\n",
       " 'import pydot',\n",
       " 'from sklearn.model_selection import train_test_split',\n",
       " 'import spacy',\n",
       " 'from openpyxl import load_workbook',\n",
       " 'from sklearn import metrics',\n",
       " 'import altair as alt',\n",
       " 'from sklearn.manifold import TSNE',\n",
       " 'from sklearn.preprocessing import PolynomialFeatures',\n",
       " 'import tensorflow as tf',\n",
       " 'import random']"
      ]
     },
     "execution_count": 6,
     "metadata": {},
     "output_type": "execute_result"
    }
   ],
   "source": [
    "import pyforest\n",
    "\n",
    "pyforest.lazy_imports()"
   ]
  },
  {
   "cell_type": "code",
   "execution_count": null,
   "id": "5b4b343e-9739-4371-a43c-901046c8395a",
   "metadata": {},
   "outputs": [],
   "source": []
  }
 ],
 "metadata": {
  "kernelspec": {
   "display_name": "Python 3 (ipykernel)",
   "language": "python",
   "name": "python3"
  },
  "language_info": {
   "codemirror_mode": {
    "name": "ipython",
    "version": 3
   },
   "file_extension": ".py",
   "mimetype": "text/x-python",
   "name": "python",
   "nbconvert_exporter": "python",
   "pygments_lexer": "ipython3",
   "version": "3.13.5"
  }
 },
 "nbformat": 4,
 "nbformat_minor": 5
}
